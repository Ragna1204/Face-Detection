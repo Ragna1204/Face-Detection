{
 "cells": [
  {
   "cell_type": "code",
   "execution_count": 1,
   "id": "a3364c05",
   "metadata": {
    "execution": {
     "iopub.execute_input": "2025-06-03T14:24:01.718174Z",
     "iopub.status.busy": "2025-06-03T14:24:01.717938Z",
     "iopub.status.idle": "2025-06-03T14:24:01.729920Z",
     "shell.execute_reply": "2025-06-03T14:24:01.729290Z"
    },
    "papermill": {
     "duration": 0.016367,
     "end_time": "2025-06-03T14:24:01.731001",
     "exception": false,
     "start_time": "2025-06-03T14:24:01.714634",
     "status": "completed"
    },
    "tags": []
   },
   "outputs": [
    {
     "name": "stdout",
     "output_type": "stream",
     "text": [
      "/kaggle/input/fer2013/fer2013.csv\n"
     ]
    }
   ],
   "source": [
    "import os\n",
    "\n",
    "for dirname, _, filenames in os.walk('/kaggle/input'):\n",
    "    for filename in filenames:\n",
    "        print(os.path.join(dirname, filename))"
   ]
  },
  {
   "cell_type": "code",
   "execution_count": 2,
   "id": "74c600d2",
   "metadata": {
    "execution": {
     "iopub.execute_input": "2025-06-03T14:24:01.736186Z",
     "iopub.status.busy": "2025-06-03T14:24:01.735961Z",
     "iopub.status.idle": "2025-06-03T14:24:01.739732Z",
     "shell.execute_reply": "2025-06-03T14:24:01.739037Z"
    },
    "papermill": {
     "duration": 0.007283,
     "end_time": "2025-06-03T14:24:01.740770",
     "exception": false,
     "start_time": "2025-06-03T14:24:01.733487",
     "status": "completed"
    },
    "tags": []
   },
   "outputs": [
    {
     "name": "stdout",
     "output_type": "stream",
     "text": [
      "['fer2013.csv']\n"
     ]
    }
   ],
   "source": [
    "import os\n",
    "print(os.listdir('/kaggle/input/fer2013'))"
   ]
  },
  {
   "cell_type": "code",
   "execution_count": 3,
   "id": "db6f332f",
   "metadata": {
    "_cell_guid": "b1076dfc-b9ad-4769-8c92-a6c4dae69d19",
    "_uuid": "8f2839f25d086af736a60e9eeb907d3b93b6e0e5",
    "execution": {
     "iopub.execute_input": "2025-06-03T14:24:01.745784Z",
     "iopub.status.busy": "2025-06-03T14:24:01.745544Z",
     "iopub.status.idle": "2025-06-03T14:24:13.901001Z",
     "shell.execute_reply": "2025-06-03T14:24:13.900423Z"
    },
    "papermill": {
     "duration": 12.159258,
     "end_time": "2025-06-03T14:24:13.902256",
     "exception": false,
     "start_time": "2025-06-03T14:24:01.742998",
     "status": "completed"
    },
    "tags": []
   },
   "outputs": [],
   "source": [
    "import os\n",
    "import numpy as np\n",
    "import pandas as pd\n",
    "import matplotlib.pyplot as plt\n",
    "import torch\n",
    "import torch.nn as nn\n",
    "import torchvision.transforms as transforms\n",
    "from torch.utils.data import Dataset, DataLoader\n",
    "from sklearn.model_selection import train_test_split"
   ]
  },
  {
   "cell_type": "code",
   "execution_count": 4,
   "id": "0602a378",
   "metadata": {
    "execution": {
     "iopub.execute_input": "2025-06-03T14:24:13.907836Z",
     "iopub.status.busy": "2025-06-03T14:24:13.907516Z",
     "iopub.status.idle": "2025-06-03T14:24:13.993217Z",
     "shell.execute_reply": "2025-06-03T14:24:13.992501Z"
    },
    "papermill": {
     "duration": 0.089718,
     "end_time": "2025-06-03T14:24:13.994406",
     "exception": false,
     "start_time": "2025-06-03T14:24:13.904688",
     "status": "completed"
    },
    "tags": []
   },
   "outputs": [
    {
     "name": "stdout",
     "output_type": "stream",
     "text": [
      "Using device: cuda\n"
     ]
    }
   ],
   "source": [
    "device = torch.device(\"cuda\" if torch.cuda.is_available() else \"cpu\")\n",
    "print(\"Using device:\", device)"
   ]
  },
  {
   "cell_type": "code",
   "execution_count": 5,
   "id": "c11bc1f3",
   "metadata": {
    "execution": {
     "iopub.execute_input": "2025-06-03T14:24:14.000032Z",
     "iopub.status.busy": "2025-06-03T14:24:13.999481Z",
     "iopub.status.idle": "2025-06-03T14:24:22.264655Z",
     "shell.execute_reply": "2025-06-03T14:24:22.264072Z"
    },
    "papermill": {
     "duration": 8.269241,
     "end_time": "2025-06-03T14:24:22.265997",
     "exception": false,
     "start_time": "2025-06-03T14:24:13.996756",
     "status": "completed"
    },
    "tags": []
   },
   "outputs": [],
   "source": [
    "fer_csv = \"/kaggle/input/fer2013/fer2013.csv\"\n",
    "df = pd.read_csv(fer_csv)"
   ]
  },
  {
   "cell_type": "code",
   "execution_count": 6,
   "id": "46c2dd8c",
   "metadata": {
    "execution": {
     "iopub.execute_input": "2025-06-03T14:24:22.271650Z",
     "iopub.status.busy": "2025-06-03T14:24:22.271465Z",
     "iopub.status.idle": "2025-06-03T14:24:22.276323Z",
     "shell.execute_reply": "2025-06-03T14:24:22.275660Z"
    },
    "papermill": {
     "duration": 0.008705,
     "end_time": "2025-06-03T14:24:22.277436",
     "exception": false,
     "start_time": "2025-06-03T14:24:22.268731",
     "status": "completed"
    },
    "tags": []
   },
   "outputs": [],
   "source": [
    "class FERDataset(Dataset):\n",
    "    def __init__(self, dataframe, transform=None):\n",
    "        self.data = dataframe\n",
    "        self.transform = transform\n",
    "\n",
    "    def __len__(self):\n",
    "        return len(self.data)\n",
    "\n",
    "    def __getitem__(self, idx):\n",
    "        emotion = int(self.data.iloc[idx]['emotion'])\n",
    "        pixels = np.array(self.data.iloc[idx]['pixels'].split(), dtype=np.uint8).reshape(48, 48)\n",
    "        img = np.stack((pixels,) * 3, axis=-1).astype(np.uint8)  # convert to 3-channel\n",
    "\n",
    "        if self.transform:\n",
    "            img = self.transform(img)\n",
    "\n",
    "        return img, emotion"
   ]
  },
  {
   "cell_type": "code",
   "execution_count": 7,
   "id": "ece366ca",
   "metadata": {
    "execution": {
     "iopub.execute_input": "2025-06-03T14:24:22.282560Z",
     "iopub.status.busy": "2025-06-03T14:24:22.282055Z",
     "iopub.status.idle": "2025-06-03T14:24:22.304858Z",
     "shell.execute_reply": "2025-06-03T14:24:22.304135Z"
    },
    "papermill": {
     "duration": 0.026483,
     "end_time": "2025-06-03T14:24:22.306053",
     "exception": false,
     "start_time": "2025-06-03T14:24:22.279570",
     "status": "completed"
    },
    "tags": []
   },
   "outputs": [],
   "source": [
    "train_transform = transforms.Compose([\n",
    "    transforms.ToPILImage(),\n",
    "    transforms.Resize((80, 80)),\n",
    "    transforms.RandomHorizontalFlip(),\n",
    "    transforms.RandomRotation(10),  # rotate ±10 degrees\n",
    "    transforms.ToTensor(),\n",
    "    transforms.Normalize([0.5]*3, [0.5]*3)\n",
    "])\n",
    "\n",
    "val_transform = transforms.Compose([\n",
    "    transforms.ToPILImage(),\n",
    "    transforms.Resize((80, 80)),\n",
    "    transforms.ToTensor(),\n",
    "    transforms.Normalize([0.5]*3, [0.5]*3)\n",
    "])\n",
    "\n",
    "train_df = df[df['Usage'] == 'Training']\n",
    "val_df = df[df['Usage'] == 'PublicTest']\n",
    "test_df = df[df['Usage'] == 'PrivateTest']\n",
    "\n",
    "train_dataset = FERDataset(train_df, train_transform)\n",
    "val_dataset = FERDataset(val_df, val_transform)\n",
    "test_dataset = FERDataset(test_df, val_transform)  \n",
    "\n",
    "train_loader = DataLoader(train_dataset, batch_size=64, shuffle=True)\n",
    "val_loader = DataLoader(val_dataset, batch_size=64)\n",
    "test_loader = DataLoader(test_dataset, batch_size=64)"
   ]
  },
  {
   "cell_type": "code",
   "execution_count": 8,
   "id": "e3d8da6a",
   "metadata": {
    "execution": {
     "iopub.execute_input": "2025-06-03T14:24:22.311386Z",
     "iopub.status.busy": "2025-06-03T14:24:22.310612Z",
     "iopub.status.idle": "2025-06-03T14:24:22.316678Z",
     "shell.execute_reply": "2025-06-03T14:24:22.316022Z"
    },
    "papermill": {
     "duration": 0.009659,
     "end_time": "2025-06-03T14:24:22.317760",
     "exception": false,
     "start_time": "2025-06-03T14:24:22.308101",
     "status": "completed"
    },
    "tags": []
   },
   "outputs": [],
   "source": [
    "class MERcnn(nn.Module):\n",
    "    def __init__(self):\n",
    "        super().__init__()\n",
    "        self.network = nn.Sequential(\n",
    "            nn.Conv2d(3, 32, kernel_size=3, padding=1),\n",
    "            nn.ReLU(),\n",
    "            nn.Conv2d(32, 64, kernel_size=3, padding=1),\n",
    "            nn.ReLU(),\n",
    "            nn.MaxPool2d(2, 2),\n",
    "            nn.Dropout(0.25),  # Dropout 25%\n",
    "\n",
    "            nn.Conv2d(64, 128, kernel_size=3, padding=1),\n",
    "            nn.ReLU(),\n",
    "            nn.Conv2d(128, 128, kernel_size=3, padding=1),\n",
    "            nn.ReLU(),\n",
    "            nn.MaxPool2d(2, 2),\n",
    "            nn.Dropout(0.25),\n",
    "\n",
    "            nn.Conv2d(128, 256, kernel_size=3, padding=1),\n",
    "            nn.ReLU(),\n",
    "            nn.Conv2d(256, 256, kernel_size=3, padding=1),\n",
    "            nn.ReLU(),\n",
    "            nn.MaxPool2d(2, 2),\n",
    "            nn.Dropout(0.25),\n",
    "\n",
    "            nn.Flatten(),\n",
    "            nn.Linear(256 * 10 * 10, 1024),\n",
    "            nn.ReLU(),\n",
    "            nn.Dropout(0.5),  # Higher dropout in FC layers\n",
    "            nn.Linear(1024, 512),\n",
    "            nn.ReLU(),\n",
    "            nn.Dropout(0.5),\n",
    "            nn.Linear(512, 7)\n",
    "        )\n",
    "\n",
    "    def forward(self, x):\n",
    "        return self.network(x)"
   ]
  },
  {
   "cell_type": "code",
   "execution_count": 9,
   "id": "4fb8061c",
   "metadata": {
    "execution": {
     "iopub.execute_input": "2025-06-03T14:24:22.323101Z",
     "iopub.status.busy": "2025-06-03T14:24:22.322482Z",
     "iopub.status.idle": "2025-06-03T14:24:22.784219Z",
     "shell.execute_reply": "2025-06-03T14:24:22.783618Z"
    },
    "papermill": {
     "duration": 0.465633,
     "end_time": "2025-06-03T14:24:22.785485",
     "exception": false,
     "start_time": "2025-06-03T14:24:22.319852",
     "status": "completed"
    },
    "tags": []
   },
   "outputs": [],
   "source": [
    "model = MERcnn().to(device)\n",
    "\n",
    "# ========================\n",
    "# Train the Model\n",
    "# ========================\n",
    "criterion = nn.CrossEntropyLoss()\n",
    "optimizer = torch.optim.Adam(model.parameters(), lr=0.001)\n",
    "\n",
    "def evaluate(model, val_loader):\n",
    "    model.eval()\n",
    "    total, correct = 0, 0\n",
    "    with torch.no_grad():\n",
    "        for x, y in val_loader:\n",
    "            x, y = x.to(device), y.to(device)\n",
    "            pred = model(x)\n",
    "            _, predicted = torch.max(pred.data, 1)\n",
    "            total += y.size(0)\n",
    "            correct += (predicted == y).sum().item()\n",
    "    return correct / total\n"
   ]
  },
  {
   "cell_type": "code",
   "execution_count": 10,
   "id": "c1178420",
   "metadata": {
    "execution": {
     "iopub.execute_input": "2025-06-03T14:24:22.791077Z",
     "iopub.status.busy": "2025-06-03T14:24:22.790864Z",
     "iopub.status.idle": "2025-06-03T14:35:14.797748Z",
     "shell.execute_reply": "2025-06-03T14:35:14.796945Z"
    },
    "papermill": {
     "duration": 652.013069,
     "end_time": "2025-06-03T14:35:14.801066",
     "exception": false,
     "start_time": "2025-06-03T14:24:22.787997",
     "status": "completed"
    },
    "tags": []
   },
   "outputs": [
    {
     "name": "stdout",
     "output_type": "stream",
     "text": [
      "Epoch 1/10, Loss: 1.7727, Val Acc: 0.3502\n",
      "Epoch 2/10, Loss: 1.5940, Val Acc: 0.4556\n",
      "Epoch 3/10, Loss: 1.4317, Val Acc: 0.5026\n",
      "Epoch 4/10, Loss: 1.3443, Val Acc: 0.5227\n",
      "Epoch 5/10, Loss: 1.2857, Val Acc: 0.5447\n",
      "Epoch 6/10, Loss: 1.2467, Val Acc: 0.5506\n",
      "Epoch 7/10, Loss: 1.2043, Val Acc: 0.5508\n",
      "Epoch 8/10, Loss: 1.1850, Val Acc: 0.5634\n",
      "Epoch 9/10, Loss: 1.1660, Val Acc: 0.5812\n",
      "Epoch 10/10, Loss: 1.1451, Val Acc: 0.5818\n"
     ]
    }
   ],
   "source": [
    "epochs = 10\n",
    "for epoch in range(epochs):\n",
    "    model.train()\n",
    "    running_loss = 0\n",
    "    for images, labels in train_loader:\n",
    "        images, labels = images.to(device), labels.to(device)\n",
    "\n",
    "        optimizer.zero_grad()\n",
    "        outputs = model(images)\n",
    "        loss = criterion(outputs, labels)\n",
    "        loss.backward()\n",
    "        optimizer.step()\n",
    "\n",
    "        running_loss += loss.item()\n",
    "\n",
    "    acc = evaluate(model, val_loader)\n",
    "    print(f\"Epoch {epoch+1}/{epochs}, Loss: {running_loss/len(train_loader):.4f}, Val Acc: {acc:.4f}\")"
   ]
  },
  {
   "cell_type": "code",
   "execution_count": 11,
   "id": "2e7df224",
   "metadata": {
    "execution": {
     "iopub.execute_input": "2025-06-03T14:35:14.807008Z",
     "iopub.status.busy": "2025-06-03T14:35:14.806564Z",
     "iopub.status.idle": "2025-06-03T14:35:15.033204Z",
     "shell.execute_reply": "2025-06-03T14:35:15.032305Z"
    },
    "papermill": {
     "duration": 0.230921,
     "end_time": "2025-06-03T14:35:15.034484",
     "exception": false,
     "start_time": "2025-06-03T14:35:14.803563",
     "status": "completed"
    },
    "tags": []
   },
   "outputs": [
    {
     "name": "stdout",
     "output_type": "stream",
     "text": [
      "Model saved as MERcnn.pth\n"
     ]
    }
   ],
   "source": [
    "torch.save(model.state_dict(), \"MERcnn.pth\")\n",
    "print(\"Model saved as MERcnn.pth\")"
   ]
  }
 ],
 "metadata": {
  "kaggle": {
   "accelerator": "nvidiaTeslaT4",
   "dataSources": [
    {
     "datasetId": 28577,
     "sourceId": 36420,
     "sourceType": "datasetVersion"
    }
   ],
   "dockerImageVersionId": 31041,
   "isGpuEnabled": true,
   "isInternetEnabled": true,
   "language": "python",
   "sourceType": "notebook"
  },
  "kernelspec": {
   "display_name": "Python 3",
   "language": "python",
   "name": "python3"
  },
  "language_info": {
   "codemirror_mode": {
    "name": "ipython",
    "version": 3
   },
   "file_extension": ".py",
   "mimetype": "text/x-python",
   "name": "python",
   "nbconvert_exporter": "python",
   "pygments_lexer": "ipython3",
   "version": "3.11.11"
  },
  "papermill": {
   "default_parameters": {},
   "duration": 680.451039,
   "end_time": "2025-06-03T14:35:18.119793",
   "environment_variables": {},
   "exception": null,
   "input_path": "__notebook__.ipynb",
   "output_path": "__notebook__.ipynb",
   "parameters": {},
   "start_time": "2025-06-03T14:23:57.668754",
   "version": "2.6.0"
  }
 },
 "nbformat": 4,
 "nbformat_minor": 5
}
